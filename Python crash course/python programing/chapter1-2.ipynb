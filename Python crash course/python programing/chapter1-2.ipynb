{
 "cells": [
  {
   "cell_type": "markdown",
   "metadata": {},
   "source": [
    "- Covered Chapter 01 and Chapter 02 from Eric Matthes Book Python Crash Course 3rd Edition"
   ]
  },
  {
   "cell_type": "markdown",
   "metadata": {},
   "source": [
    "# print simple hello world"
   ]
  },
  {
   "cell_type": "code",
   "execution_count": 1,
   "metadata": {},
   "outputs": [
    {
     "name": "stdout",
     "output_type": "stream",
     "text": [
      "Hello World!\n"
     ]
    }
   ],
   "source": [
    "print(\"Hello World!\")"
   ]
  },
  {
   "cell_type": "markdown",
   "metadata": {},
   "source": [
    "# use of variables \n",
    "* variable is a container to store values.\n",
    "* you can use any name of variable like a, x, name, my_name, a1 etc"
   ]
  },
  {
   "cell_type": "code",
   "execution_count": 2,
   "metadata": {},
   "outputs": [],
   "source": [
    "name = 'Farhan'\n",
    "f_name = 'Zafar'\n",
    "cast3 = 'Rajar'"
   ]
  },
  {
   "cell_type": "markdown",
   "metadata": {},
   "source": [
    "# string data type\n"
   ]
  },
  {
   "cell_type": "code",
   "execution_count": 3,
   "metadata": {},
   "outputs": [
    {
     "name": "stdout",
     "output_type": "stream",
     "text": [
      "Supra\n",
      "Honda\n"
     ]
    }
   ],
   "source": [
    "car: str = \"Supra\" # 2x Quates \"\" ok\n",
    "print(car)\n",
    "\n",
    "bike: str = 'Honda' # 1x Quates '' also ok\n",
    "print(bike)"
   ]
  },
  {
   "cell_type": "markdown",
   "metadata": {},
   "source": [
    "# change case string methods\n",
    "* title( )\n",
    "* upper( )\n",
    "* lower( )"
   ]
  },
  {
   "cell_type": "code",
   "execution_count": 4,
   "metadata": {},
   "outputs": [
    {
     "name": "stdout",
     "output_type": "stream",
     "text": [
      "Pakora\n"
     ]
    }
   ],
   "source": [
    "name: str = 'pakora'\n",
    "print(name.title())"
   ]
  },
  {
   "cell_type": "code",
   "execution_count": 5,
   "metadata": {},
   "outputs": [
    {
     "name": "stdout",
     "output_type": "stream",
     "text": [
      "CHAI\n"
     ]
    }
   ],
   "source": [
    "name: str = \"chai\"\n",
    "print(name.upper())"
   ]
  },
  {
   "cell_type": "code",
   "execution_count": 6,
   "metadata": {},
   "outputs": [
    {
     "name": "stdout",
     "output_type": "stream",
     "text": [
      "biscuits\n"
     ]
    }
   ],
   "source": [
    "name: str = 'BISCUITS'\n",
    "print(name.lower())"
   ]
  },
  {
   "cell_type": "markdown",
   "metadata": {},
   "source": [
    "# f-string \n",
    "* using variables in strings"
   ]
  },
  {
   "cell_type": "code",
   "execution_count": 7,
   "metadata": {},
   "outputs": [
    {
     "name": "stdout",
     "output_type": "stream",
     "text": [
      "Sadiq wedds Kiani\n"
     ]
    }
   ],
   "source": [
    "lado: str = \"Sadiq\"\n",
    "ladi: str = \"Kiani\"\n",
    "print(f\"{lado} wedds {ladi}\")"
   ]
  },
  {
   "cell_type": "markdown",
   "metadata": {},
   "source": [
    "# f-string \"\",'',\"\"\" \"\"\",''' '''.\n",
    "* you can use multi values using f string \n",
    "* and also using any type of data"
   ]
  },
  {
   "cell_type": "code",
   "execution_count": 8,
   "metadata": {},
   "outputs": [
    {
     "name": "stdout",
     "output_type": "stream",
     "text": [
      "name: Farhan\n",
      "f_ name: Zafar\n",
      "education: Software Engineer\n",
      "age: 18\n",
      "\n"
     ]
    }
   ],
   "source": [
    "data = f\"\"\"name: Farhan\n",
    "f_ name: Zafar\n",
    "education: Software Engineer\n",
    "age: 18\n",
    "\"\"\" \n",
    "print(data)"
   ]
  },
  {
   "cell_type": "code",
   "execution_count": 9,
   "metadata": {},
   "outputs": [
    {
     "name": "stdout",
     "output_type": "stream",
     "text": [
      "Sadiq & Babhi Lakh Lakh Mubaraku Hujan Shadi Ju!\n"
     ]
    }
   ],
   "source": [
    "bro: str = \"sadiq\"\n",
    "kiani: str = \"babhi\"\n",
    "nibo_nibbi = (f'{bro} & {kiani} lakh lakh mubaraku hujan shadi ju!')\n",
    "print(nibo_nibbi.title())"
   ]
  },
  {
   "cell_type": "markdown",
   "metadata": {},
   "source": [
    "# adding whitespace using tabs \\t,\\n"
   ]
  },
  {
   "cell_type": "code",
   "execution_count": 10,
   "metadata": {},
   "outputs": [
    {
     "name": "stdout",
     "output_type": "stream",
     "text": [
      "\tPython\n"
     ]
    }
   ],
   "source": [
    "# \\t tab whitespace\n",
    "print(\"\\tPython\")"
   ]
  },
  {
   "cell_type": "code",
   "execution_count": 11,
   "metadata": {},
   "outputs": [
    {
     "name": "stdout",
     "output_type": "stream",
     "text": [
      "\n",
      " I love Python\n"
     ]
    }
   ],
   "source": [
    "# \\n newline\n",
    "print('\\n I love Python')"
   ]
  },
  {
   "cell_type": "markdown",
   "metadata": {},
   "source": [
    "- You can also combine tabs and newlines in a single string. The string \"\\n\\t\" tells Python to move to a new line, and start the next line with a tab."
   ]
  },
  {
   "cell_type": "code",
   "execution_count": 12,
   "metadata": {},
   "outputs": [
    {
     "name": "stdout",
     "output_type": "stream",
     "text": [
      "Languages:\n",
      "\tPython\n",
      "\tTypescript\n",
      "\tSolidity\n"
     ]
    }
   ],
   "source": [
    "# using togather \n",
    "print(\"Languages:\\n\\tPython\\n\\tTypescript\\n\\tSolidity\")"
   ]
  },
  {
   "cell_type": "markdown",
   "metadata": {},
   "source": [
    "# stripping whitespace\n",
    "* rstript() methode remove right-side space\n",
    "* lstrip() method remove left-side space \n",
    "* strip() method removes both sides of the string."
   ]
  },
  {
   "cell_type": "code",
   "execution_count": 13,
   "metadata": {},
   "outputs": [
    {
     "name": "stdout",
     "output_type": "stream",
     "text": [
      "Beef Pulao\n"
     ]
    }
   ],
   "source": [
    "dish: str = '    Beef Pulao'\n",
    "print(dish.lstrip())"
   ]
  },
  {
   "cell_type": "code",
   "execution_count": 14,
   "metadata": {},
   "outputs": [
    {
     "name": "stdout",
     "output_type": "stream",
     "text": [
      "Mutton Biryani\n"
     ]
    }
   ],
   "source": [
    "dish: str = 'Mutton Biryani     '\n",
    "print(dish.rstrip())"
   ]
  },
  {
   "cell_type": "code",
   "execution_count": 15,
   "metadata": {},
   "outputs": [
    {
     "name": "stdout",
     "output_type": "stream",
     "text": [
      "Mirchan g Chatni\n"
     ]
    }
   ],
   "source": [
    "dish: str = \"    Mirchan g Chatni     \"\n",
    "print(dish.strip())"
   ]
  },
  {
   "cell_type": "markdown",
   "metadata": {},
   "source": [
    "# Remove (prefix,suffix)\n",
    "* prefix( )\n",
    "* suffix( )"
   ]
  },
  {
   "cell_type": "code",
   "execution_count": 16,
   "metadata": {},
   "outputs": [
    {
     "name": "stdout",
     "output_type": "stream",
     "text": [
      "farhan-aziz\n"
     ]
    }
   ],
   "source": [
    "my_account: str = \"farhan-aziz460\"\n",
    "print(my_account.removesuffix('460'))"
   ]
  },
  {
   "cell_type": "code",
   "execution_count": 17,
   "metadata": {},
   "outputs": [
    {
     "name": "stdout",
     "output_type": "stream",
     "text": [
      "generative.ai\n"
     ]
    }
   ],
   "source": [
    "ai: str = 'https:/generative.ai'\n",
    "print(ai.removeprefix('https:/'))"
   ]
  },
  {
   "cell_type": "markdown",
   "metadata": {},
   "source": [
    "# using apostrophe in string"
   ]
  },
  {
   "cell_type": "code",
   "execution_count": 18,
   "metadata": {},
   "outputs": [
    {
     "name": "stdout",
     "output_type": "stream",
     "text": [
      "One of Python's strengths is it diverse comunity.\n"
     ]
    }
   ],
   "source": [
    "apostrophe: str = \"One of Python's strengths is it diverse comunity.\"\n",
    "print(apostrophe) # 2x quates code work OK"
   ]
  },
  {
   "cell_type": "code",
   "execution_count": 19,
   "metadata": {},
   "outputs": [
    {
     "ename": "SyntaxError",
     "evalue": "unterminated string literal (detected at line 1) (192555094.py, line 1)",
     "output_type": "error",
     "traceback": [
      "\u001b[1;36m  Cell \u001b[1;32mIn[19], line 1\u001b[1;36m\u001b[0m\n\u001b[1;33m    apostrophe: str = 'One of Python's strength is it diverse comunity.'\u001b[0m\n\u001b[1;37m                                                                       ^\u001b[0m\n\u001b[1;31mSyntaxError\u001b[0m\u001b[1;31m:\u001b[0m unterminated string literal (detected at line 1)\n"
     ]
    }
   ],
   "source": [
    "apostrophe: str = 'One of Python's strength is it diverse comunity.'\n",
    "print(apostrophe) # if you use single quotes, Python can’t identify where the string should end"
   ]
  },
  {
   "cell_type": "markdown",
   "metadata": {},
   "source": [
    "# Numbers (intiger data type)\n"
   ]
  },
  {
   "cell_type": "code",
   "execution_count": null,
   "metadata": {},
   "outputs": [
    {
     "name": "stdout",
     "output_type": "stream",
     "text": [
      "8\n"
     ]
    }
   ],
   "source": [
    "a: int = 6\n",
    "b: int = 2\n",
    "c: int = a + b\n",
    "print(c)"
   ]
  },
  {
   "cell_type": "code",
   "execution_count": null,
   "metadata": {},
   "outputs": [
    {
     "name": "stdout",
     "output_type": "stream",
     "text": [
      "4\n"
     ]
    }
   ],
   "source": [
    "d: int = a - b\n",
    "print(d)"
   ]
  },
  {
   "cell_type": "code",
   "execution_count": null,
   "metadata": {},
   "outputs": [
    {
     "name": "stdout",
     "output_type": "stream",
     "text": [
      "12\n"
     ]
    }
   ],
   "source": [
    "e: int = a * b\n",
    "print(e)"
   ]
  },
  {
   "cell_type": "code",
   "execution_count": null,
   "metadata": {},
   "outputs": [
    {
     "name": "stdout",
     "output_type": "stream",
     "text": [
      "3.0\n"
     ]
    }
   ],
   "source": [
    "f: int = a / b           \n",
    "print(f)"
   ]
  },
  {
   "cell_type": "markdown",
   "metadata": {},
   "source": [
    "# Floats data type\n",
    "* python calls any number with a decimal point a float.\n",
    "* It is used to represent real numbers, like 123.456 or -987.000 etc."
   ]
  },
  {
   "cell_type": "code",
   "execution_count": null,
   "metadata": {},
   "outputs": [
    {
     "name": "stdout",
     "output_type": "stream",
     "text": [
      "3.0\n"
     ]
    }
   ],
   "source": [
    "a: float = 1.5\n",
    "b: float = 1.5\n",
    "c: float = a + b\n",
    "print(c)"
   ]
  },
  {
   "cell_type": "markdown",
   "metadata": {},
   "source": [
    "# When you divide any two numbers, even if they are integers that result in a whole number, you’ll always get a float"
   ]
  },
  {
   "cell_type": "code",
   "execution_count": null,
   "metadata": {},
   "outputs": [
    {
     "name": "stdout",
     "output_type": "stream",
     "text": [
      "<class 'float'>\n",
      "2.0\n"
     ]
    }
   ],
   "source": [
    "a: int = 4\n",
    "b: int = 2\n",
    "c = a / b \n",
    "print(type(c))   \n",
    "print(c)\n"
   ]
  },
  {
   "cell_type": "markdown",
   "metadata": {},
   "source": [
    "# underscores using numbers\n",
    "* When you’re writing long numbers, you can group digits using underscores to make large numbers more readable\n",
    "* When you print a number that was defined using underscores, Python prints only the digits:"
   ]
  },
  {
   "cell_type": "code",
   "execution_count": null,
   "metadata": {},
   "outputs": [
    {
     "name": "stdout",
     "output_type": "stream",
     "text": [
      "56780000000\n"
     ]
    }
   ],
   "source": [
    "nmbr: int = 5678_000_0000\n",
    "print(nmbr)"
   ]
  },
  {
   "cell_type": "markdown",
   "metadata": {},
   "source": [
    "# you can use multiple values & variables in a single line using comma (,)"
   ]
  },
  {
   "cell_type": "code",
   "execution_count": null,
   "metadata": {},
   "outputs": [
    {
     "name": "stdout",
     "output_type": "stream",
     "text": [
      "1 A True\n"
     ]
    }
   ],
   "source": [
    "x,y,z = 1,'A',True\n",
    "print(x,y,z) "
   ]
  },
  {
   "cell_type": "markdown",
   "metadata": {},
   "source": [
    "# List data type\n"
   ]
  },
  {
   "cell_type": "code",
   "execution_count": null,
   "metadata": {},
   "outputs": [
    {
     "name": "stdout",
     "output_type": "stream",
     "text": [
      "['Sadiq', 'Jabir', 'Iqrar', 'Sheeraz', 'Tariq']\n"
     ]
    }
   ],
   "source": [
    "freinds: list[str] = [\"Sadiq\",\"Jabir\",\"Iqrar\",\"Sheeraz\",\"Tariq\"]\n",
    "print(freinds)"
   ]
  },
  {
   "cell_type": "markdown",
   "metadata": {},
   "source": [
    "# accenssing list elements using indexes\n",
    "* positive index (start:end:step)\n",
    "* negative index (start:end:step)"
   ]
  },
  {
   "cell_type": "code",
   "execution_count": null,
   "metadata": {},
   "outputs": [
    {
     "name": "stdout",
     "output_type": "stream",
     "text": [
      "Sadiq\n",
      "Sadiq\n"
     ]
    }
   ],
   "source": [
    "# -->                    0       1       2        3        4     positive indexing\n",
    "freinds: list[str] = [\"Sadiq\",\"Jabir\",\"Iqrar\",\"Sheeraz\",\"Tariq\"]\n",
    "# <--                   -5      -4      -3      -2         -1    negative indexing\n",
    "print(freinds[0]) # ok\n",
    "print(freinds[-5]) # also ok"
   ]
  },
  {
   "cell_type": "code",
   "execution_count": null,
   "metadata": {},
   "outputs": [
    {
     "name": "stdout",
     "output_type": "stream",
     "text": [
      "['Sadiq', 'Jabir', 'Iqrar', 'Sheeraz']\n",
      "['Sadiq', 'Jabir', 'Iqrar', 'Sheeraz']\n"
     ]
    }
   ],
   "source": [
    "# -->                    0       1       2        3        4     positive indexing\n",
    "freinds: list[str] = [\"Sadiq\",\"Jabir\",\"Iqrar\",\"Sheeraz\",\"Tariq\"]\n",
    "# <--                   -5      -4      -3      -2         -1    negative indexing\n",
    "print(freinds[0:4: ]) # ok\n",
    "print(freinds[-5:-1: ]) # ok"
   ]
  },
  {
   "cell_type": "code",
   "execution_count": null,
   "metadata": {},
   "outputs": [
    {
     "name": "stdout",
     "output_type": "stream",
     "text": [
      "[1, 3, 5, 7, 9, 11]\n",
      "[1, 3, 5, 7, 9]\n"
     ]
    }
   ],
   "source": [
    "table: list[int] = [1,2,3,4,5,6,7,8,9,10,11]\n",
    "print(table[0:11:2])\n",
    "print(table[-11:-1:2])\n"
   ]
  },
  {
   "cell_type": "markdown",
   "metadata": {},
   "source": [
    "# modifying elements in list"
   ]
  },
  {
   "cell_type": "code",
   "execution_count": null,
   "metadata": {},
   "outputs": [
    {
     "name": "stdout",
     "output_type": "stream",
     "text": [
      "['civic', 'city', 'supra', 'mark x']\n"
     ]
    }
   ],
   "source": [
    "cars: list[str] = ['civic','city','margala','mark x']\n",
    "cars[2] = 'supra'\n",
    "print(cars)"
   ]
  },
  {
   "cell_type": "markdown",
   "metadata": {},
   "source": [
    "# adding elements in list\n",
    "* append( ) add element in the last of list\n"
   ]
  },
  {
   "cell_type": "code",
   "execution_count": null,
   "metadata": {},
   "outputs": [
    {
     "name": "stdout",
     "output_type": "stream",
     "text": [
      "['Zinger Burger', 'Fries', 'Pizza', 'Noodles']\n"
     ]
    }
   ],
   "source": [
    "dishes: list[str] = ['Zinger Burger','Fries','Pizza']\n",
    "dishes.append('Noodles')\n",
    "print(dishes)"
   ]
  },
  {
   "cell_type": "markdown",
   "metadata": {},
   "source": [
    "# inserting elements\n",
    "* insert( ) method using for add elements in the list at any position using indexes"
   ]
  },
  {
   "cell_type": "code",
   "execution_count": null,
   "metadata": {},
   "outputs": [
    {
     "name": "stdout",
     "output_type": "stream",
     "text": [
      "['a', 'c', 'd', 'e', 'f']\n"
     ]
    }
   ],
   "source": [
    "letters: list[str] = ['a','c','d','f']\n",
    "letters.insert(1,'b')\n",
    "\n",
    "print(letters)"
   ]
  },
  {
   "cell_type": "code",
   "execution_count": null,
   "metadata": {},
   "outputs": [
    {
     "name": "stdout",
     "output_type": "stream",
     "text": [
      "['a', 'c', 'd', 'e', 'f']\n"
     ]
    }
   ],
   "source": [
    "letters: list[str] = ['a','c','d','f']\n",
    "letters.insert(-1,'e')\n",
    "print(letters)"
   ]
  },
  {
   "cell_type": "markdown",
   "metadata": {},
   "source": [
    "# removing elements from a list\n",
    "* delete function"
   ]
  },
  {
   "cell_type": "code",
   "execution_count": null,
   "metadata": {},
   "outputs": [
    {
     "name": "stdout",
     "output_type": "stream",
     "text": [
      "['Honda', 'Yamha']\n"
     ]
    }
   ],
   "source": [
    "bikes: list[str] = ['Honda','Suzuki','Yamha']\n",
    "del bikes[1]\n",
    "print(bikes)"
   ]
  },
  {
   "cell_type": "markdown",
   "metadata": {},
   "source": [
    "# pop( ) method \n",
    "* removing elements from the last of list"
   ]
  },
  {
   "cell_type": "code",
   "execution_count": null,
   "metadata": {},
   "outputs": [
    {
     "name": "stdout",
     "output_type": "stream",
     "text": [
      "['a', 'b', 'c']\n"
     ]
    }
   ],
   "source": [
    "letters: list[str] = ['a','b','c','f']\n",
    "letters.pop()\n",
    "print(letters)"
   ]
  },
  {
   "cell_type": "markdown",
   "metadata": {},
   "source": [
    "# poping items using index\n"
   ]
  },
  {
   "cell_type": "code",
   "execution_count": null,
   "metadata": {},
   "outputs": [
    {
     "name": "stdout",
     "output_type": "stream",
     "text": [
      "['a', 'c', 'd']\n"
     ]
    }
   ],
   "source": [
    "letters: list[str] = ['a','c','d','f']\n",
    "letters.pop(-1) # you can use negative & positive indexes for poping also Ok\n",
    "#letters.pop(1) # ['a','d'] \n",
    "print(letters)"
   ]
  },
  {
   "cell_type": "markdown",
   "metadata": {},
   "source": [
    "# removing an item by value\n",
    "* remove( ) method"
   ]
  },
  {
   "cell_type": "code",
   "execution_count": null,
   "metadata": {},
   "outputs": [
    {
     "name": "stdout",
     "output_type": "stream",
     "text": [
      "['supra', 'mehran', 'khyber']\n"
     ]
    }
   ],
   "source": [
    "cars: list[str] = ['supra','coure','mehran','khyber']\n",
    "cars.remove('coure')\n",
    "print(cars)"
   ]
  },
  {
   "cell_type": "markdown",
   "metadata": {},
   "source": [
    "# sorting list\n",
    "* sort( ) method"
   ]
  },
  {
   "cell_type": "code",
   "execution_count": null,
   "metadata": {},
   "outputs": [
    {
     "name": "stdout",
     "output_type": "stream",
     "text": [
      "['a', 'b', 'c', 'd', 'e', 'g']\n"
     ]
    }
   ],
   "source": [
    "alpha: list[str] = ['a','e','g','b','d','c']\n",
    "alpha.sort()\n",
    "print(alpha)"
   ]
  },
  {
   "cell_type": "code",
   "execution_count": null,
   "metadata": {},
   "outputs": [
    {
     "name": "stdout",
     "output_type": "stream",
     "text": [
      "['g', 'e', 'd', 'c', 'b', 'a']\n"
     ]
    }
   ],
   "source": [
    "alpha: list[str] = ['a','e','g','b','d','c']\n",
    "alpha.sort(reverse=True)\n",
    "print(alpha) # reverse alphabetical order"
   ]
  },
  {
   "cell_type": "markdown",
   "metadata": {},
   "source": [
    "# sorted( ) function\n",
    "* This is a built-in Python function that can be used to sort any iterable object."
   ]
  },
  {
   "cell_type": "code",
   "execution_count": null,
   "metadata": {},
   "outputs": [
    {
     "name": "stdout",
     "output_type": "stream",
     "text": [
      "['a', 'b', 'c', 'd', 'e', 'g']\n"
     ]
    }
   ],
   "source": [
    "alpha: list[str] = ['a','e','g','b','d','c']\n",
    "\n",
    "print(sorted(alpha)) # sorting list temporarily with sorted( ) function"
   ]
  },
  {
   "cell_type": "markdown",
   "metadata": {},
   "source": [
    "# Reverse the list\n",
    "* reverse( ) method"
   ]
  },
  {
   "cell_type": "code",
   "execution_count": null,
   "metadata": {},
   "outputs": [
    {
     "name": "stdout",
     "output_type": "stream",
     "text": [
      "[6, 5, 4, 3, 2, 1]\n",
      "[1, 2, 3, 4, 5, 6]\n"
     ]
    }
   ],
   "source": [
    "nums: list[int] = [1,2,3,4,5,6]\n",
    "nums.reverse()\n",
    "print(nums)\n",
    "nums.reverse() \n",
    "print(nums)"
   ]
  },
  {
   "cell_type": "markdown",
   "metadata": {},
   "source": [
    "# find length of list\n",
    "* len( ) function"
   ]
  },
  {
   "cell_type": "code",
   "execution_count": null,
   "metadata": {},
   "outputs": [
    {
     "data": {
      "text/plain": [
       "4"
      ]
     },
     "execution_count": 32,
     "metadata": {},
     "output_type": "execute_result"
    }
   ],
   "source": [
    "cars: list[str] = ['civic','supra','toyota','honda']\n",
    "len(cars)"
   ]
  },
  {
   "cell_type": "markdown",
   "metadata": {},
   "source": [
    "# Index errors\n",
    "* Index errors are a type of error that occur when an attempt is made to access data at an index that does not exist in the array or list"
   ]
  },
  {
   "cell_type": "code",
   "execution_count": 24,
   "metadata": {},
   "outputs": [
    {
     "ename": "IndexError",
     "evalue": "list index out of range",
     "output_type": "error",
     "traceback": [
      "\u001b[1;31m---------------------------------------------------------------------------\u001b[0m",
      "\u001b[1;31mIndexError\u001b[0m                                Traceback (most recent call last)",
      "\u001b[1;32me:\\Python crash course\\class 7\\app.ipynb Cell 75\u001b[0m line \u001b[0;36m3\n\u001b[0;32m      <a href='vscode-notebook-cell:/e%3A/Python%20crash%20course/class%207/app.ipynb#Y134sZmlsZQ%3D%3D?line=0'>1</a>\u001b[0m index_error: \u001b[39mlist\u001b[39m[\u001b[39mstr\u001b[39m] \u001b[39m=\u001b[39m [\u001b[39m'\u001b[39m\u001b[39mHonada\u001b[39m\u001b[39m'\u001b[39m,\u001b[39m\"\u001b[39m\u001b[39mBruno\u001b[39m\u001b[39m\"\u001b[39m,\u001b[39m\"\u001b[39m\u001b[39mDodge\u001b[39m\u001b[39m\"\u001b[39m] \n\u001b[1;32m----> <a href='vscode-notebook-cell:/e%3A/Python%20crash%20course/class%207/app.ipynb#Y134sZmlsZQ%3D%3D?line=2'>3</a>\u001b[0m \u001b[39mprint\u001b[39m(index_error[\u001b[39m3\u001b[39m])\n",
      "\u001b[1;31mIndexError\u001b[0m: list index out of range"
     ]
    }
   ],
   "source": [
    "index_error: list[str] = ['Honada',\"Bruno\",\"Dodge\"] \n",
    "\n",
    "print(index_error[3]) # IndexError: list index out of range"
   ]
  },
  {
   "cell_type": "code",
   "execution_count": 29,
   "metadata": {},
   "outputs": [
    {
     "name": "stdout",
     "output_type": "stream",
     "text": [
      "Dodge\n"
     ]
    }
   ],
   "source": [
    "index_error: list[str] = ['Honada',\"Bruno\",\"Dodge\"] \n",
    "# case 1\n",
    "print(index_error[-1]) # always return last item of the list "
   ]
  },
  {
   "cell_type": "code",
   "execution_count": 25,
   "metadata": {},
   "outputs": [
    {
     "ename": "IndexError",
     "evalue": "list index out of range",
     "output_type": "error",
     "traceback": [
      "\u001b[1;31m---------------------------------------------------------------------------\u001b[0m",
      "\u001b[1;31mIndexError\u001b[0m                                Traceback (most recent call last)",
      "\u001b[1;32me:\\Python crash course\\class 7\\app.ipynb Cell 77\u001b[0m line \u001b[0;36m3\n\u001b[0;32m      <a href='vscode-notebook-cell:/e%3A/Python%20crash%20course/class%207/app.ipynb#Y136sZmlsZQ%3D%3D?line=0'>1</a>\u001b[0m index_error: \u001b[39mlist\u001b[39m[\u001b[39mstr\u001b[39m] \u001b[39m=\u001b[39m [ ] \n\u001b[0;32m      <a href='vscode-notebook-cell:/e%3A/Python%20crash%20course/class%207/app.ipynb#Y136sZmlsZQ%3D%3D?line=1'>2</a>\u001b[0m \u001b[39m# case 2\u001b[39;00m\n\u001b[1;32m----> <a href='vscode-notebook-cell:/e%3A/Python%20crash%20course/class%207/app.ipynb#Y136sZmlsZQ%3D%3D?line=2'>3</a>\u001b[0m \u001b[39mprint\u001b[39m(index_error[\u001b[39m-\u001b[39m\u001b[39m1\u001b[39m])\n",
      "\u001b[1;31mIndexError\u001b[0m: list index out of range"
     ]
    }
   ],
   "source": [
    "index_error: list[str] = [ ] \n",
    "# case 2\n",
    "print(index_error[-1]) # negative index return error when list will be empty"
   ]
  },
  {
   "cell_type": "code",
   "execution_count": 30,
   "metadata": {},
   "outputs": [
    {
     "ename": "IndexError",
     "evalue": "list index out of range",
     "output_type": "error",
     "traceback": [
      "\u001b[1;31m---------------------------------------------------------------------------\u001b[0m",
      "\u001b[1;31mIndexError\u001b[0m                                Traceback (most recent call last)",
      "\u001b[1;32me:\\Python crash course\\class 7\\app.ipynb Cell 78\u001b[0m line \u001b[0;36m3\n\u001b[0;32m      <a href='vscode-notebook-cell:/e%3A/Python%20crash%20course/class%207/app.ipynb#Y140sZmlsZQ%3D%3D?line=0'>1</a>\u001b[0m index_error: \u001b[39mlist\u001b[39m[\u001b[39mstr\u001b[39m] \u001b[39m=\u001b[39m [\u001b[39m'\u001b[39m\u001b[39mHonada\u001b[39m\u001b[39m'\u001b[39m,\u001b[39m\"\u001b[39m\u001b[39mBruno\u001b[39m\u001b[39m\"\u001b[39m,\u001b[39m\"\u001b[39m\u001b[39mDodge\u001b[39m\u001b[39m\"\u001b[39m] \n\u001b[1;32m----> <a href='vscode-notebook-cell:/e%3A/Python%20crash%20course/class%207/app.ipynb#Y140sZmlsZQ%3D%3D?line=2'>3</a>\u001b[0m \u001b[39mprint\u001b[39m(index_error[\u001b[39m-\u001b[39m\u001b[39m4\u001b[39m])\n",
      "\u001b[1;31mIndexError\u001b[0m: list index out of range"
     ]
    }
   ],
   "source": [
    "index_error: list[str] = ['Honada',\"Bruno\",\"Dodge\"] \n",
    "\n",
    "print(index_error[-4]) # list index out of range"
   ]
  }
 ],
 "metadata": {
  "kernelspec": {
   "display_name": "Python 3",
   "language": "python",
   "name": "python3"
  },
  "language_info": {
   "codemirror_mode": {
    "name": "ipython",
    "version": 3
   },
   "file_extension": ".py",
   "mimetype": "text/x-python",
   "name": "python",
   "nbconvert_exporter": "python",
   "pygments_lexer": "ipython3",
   "version": "3.11.5"
  }
 },
 "nbformat": 4,
 "nbformat_minor": 2
}
