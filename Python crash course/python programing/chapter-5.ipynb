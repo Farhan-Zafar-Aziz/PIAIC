{
 "cells": [
  {
   "cell_type": "markdown",
   "metadata": {},
   "source": [
    "# Simple if statement"
   ]
  },
  {
   "cell_type": "code",
   "execution_count": 1,
   "metadata": {},
   "outputs": [
    {
     "name": "stdout",
     "output_type": "stream",
     "text": [
      "You will have a Honda Civic. Inshallah One day\n"
     ]
    }
   ],
   "source": [
    "car = \"Honda Civic\"\n",
    "\n",
    "if car == \"Honda Civic\":\n",
    "    print(\"You will have a Honda Civic. Inshallah One day\")\n",
    "else:\n",
    "    print(\"I don't have today but in future....\")    "
   ]
  },
  {
   "cell_type": "code",
   "execution_count": 6,
   "metadata": {},
   "outputs": [
    {
     "name": "stdout",
     "output_type": "stream",
     "text": [
      "BMW\n",
      "Bugati\n",
      "Mercedees\n",
      "Bently\n"
     ]
    }
   ],
   "source": [
    "cars = [\"bmw\",\"bugati\",\"Mercedees\",\"bently\"]\n",
    "\n",
    "for car in cars:\n",
    "    if car == \"bmw\":\n",
    "        print(car.upper())\n",
    "    else:\n",
    "        print(car.title())    \n",
    "        "
   ]
  },
  {
   "cell_type": "markdown",
   "metadata": {},
   "source": [
    "# Conditional Tests\n",
    "* = assigning\n",
    "* == equality\n",
    "* != inequality\n",
    "* > greater than\n",
    "* < less than\n",
    "* >= greater or equal to\n",
    "* <= less or equal to\n",
    "* && logical and\n",
    "* || logical or"
   ]
  },
  {
   "cell_type": "code",
   "execution_count": 8,
   "metadata": {},
   "outputs": [
    {
     "name": "stdout",
     "output_type": "stream",
     "text": [
      "a is equal to 5\n"
     ]
    }
   ],
   "source": [
    "a = 5\n",
    "\n",
    "if a == 5: # True conditions\n",
    "    print(\"a is equal to 5\")\n",
    "else:\n",
    "    print(\"a is not equal to 5\")\n"
   ]
  },
  {
   "cell_type": "code",
   "execution_count": 9,
   "metadata": {},
   "outputs": [
    {
     "name": "stdout",
     "output_type": "stream",
     "text": [
      "a is equal to 5\n"
     ]
    }
   ],
   "source": [
    "a = 5 \n",
    "\n",
    "if a == 4:\n",
    "    print(\"a is not equal to 4\")\n",
    "else: \n",
    "    print(\"a is equal to 5\")\n"
   ]
  },
  {
   "cell_type": "code",
   "execution_count": 11,
   "metadata": {},
   "outputs": [
    {
     "data": {
      "text/plain": [
       "False"
      ]
     },
     "execution_count": 11,
     "metadata": {},
     "output_type": "execute_result"
    }
   ],
   "source": [
    "car = \"Audi\"\n",
    "car == 'audi' # ignore case "
   ]
  },
  {
   "cell_type": "code",
   "execution_count": 13,
   "metadata": {},
   "outputs": [
    {
     "name": "stdout",
     "output_type": "stream",
     "text": [
      "equal to 5\n"
     ]
    }
   ],
   "source": [
    "# != not equal\n",
    "a = 5\n",
    "\n",
    "if a != 4: # true\n",
    "    print(\"equal to 5\")\n",
    "else:\n",
    "    print(\"not equal to 5\")    "
   ]
  },
  {
   "cell_type": "code",
   "execution_count": 14,
   "metadata": {},
   "outputs": [
    {
     "name": "stdout",
     "output_type": "stream",
     "text": [
      "not equal to 5\n"
     ]
    }
   ],
   "source": [
    "# != not equal\n",
    "a = 5\n",
    "\n",
    "if a != 5: # false\n",
    "    print(\"equal to 5\")\n",
    "else:\n",
    "    print(\"not equal to 5\") "
   ]
  },
  {
   "cell_type": "code",
   "execution_count": 15,
   "metadata": {},
   "outputs": [
    {
     "name": "stdout",
     "output_type": "stream",
     "text": [
      "correct\n"
     ]
    }
   ],
   "source": [
    "# >= greater then or equal case 1\n",
    "a = 10\n",
    "\n",
    "if a >= 10:\n",
    "    print(\"correct\")\n",
    "else:\n",
    "    print(\"wrong\")    "
   ]
  },
  {
   "cell_type": "code",
   "execution_count": 17,
   "metadata": {},
   "outputs": [
    {
     "name": "stdout",
     "output_type": "stream",
     "text": [
      "wrong\n"
     ]
    }
   ],
   "source": [
    "# >= greater then or equal case 2\n",
    "a = 10\n",
    "\n",
    "if a >= 11:\n",
    "    print(\"correct\")\n",
    "else:\n",
    "    print(\"wrong\") "
   ]
  },
  {
   "cell_type": "code",
   "execution_count": 19,
   "metadata": {},
   "outputs": [
    {
     "name": "stdout",
     "output_type": "stream",
     "text": [
      "correct\n"
     ]
    }
   ],
   "source": [
    "# <= less then or equal case 1\n",
    "a = 10\n",
    "\n",
    "if a <= 11:\n",
    "    print(\"correct\")\n",
    "else:\n",
    "    print(\"wrong\")"
   ]
  },
  {
   "cell_type": "code",
   "execution_count": 21,
   "metadata": {},
   "outputs": [
    {
     "name": "stdout",
     "output_type": "stream",
     "text": [
      "wrong\n"
     ]
    }
   ],
   "source": [
    "# <= less then or equal case 2\n",
    "a = 10\n",
    "\n",
    "if a <= 9:\n",
    "    print(\"correct\")\n",
    "else:\n",
    "    print(\"wrong\")"
   ]
  },
  {
   "cell_type": "code",
   "execution_count": 24,
   "metadata": {},
   "outputs": [
    {
     "name": "stdout",
     "output_type": "stream",
     "text": [
      "wrong\n"
     ]
    }
   ],
   "source": [
    "# > greater then case 1\n",
    "a = 10\n",
    "\n",
    "if a > 10: # here we use = with greater and less due to handle value comparison\n",
    "    print(\"correct\")\n",
    "else:\n",
    "    print(\"wrong\")"
   ]
  },
  {
   "cell_type": "code",
   "execution_count": 25,
   "metadata": {},
   "outputs": [
    {
     "name": "stdout",
     "output_type": "stream",
     "text": [
      "correct\n"
     ]
    }
   ],
   "source": [
    "# greater then > case 2\n",
    "a = 10\n",
    "\n",
    "if a > 9:\n",
    "    print(\"correct\")\n",
    "else:\n",
    "    print(\"wrong\")"
   ]
  },
  {
   "cell_type": "code",
   "execution_count": 27,
   "metadata": {},
   "outputs": [
    {
     "data": {
      "text/plain": [
       "True"
      ]
     },
     "execution_count": 27,
     "metadata": {},
     "output_type": "execute_result"
    }
   ],
   "source": [
    "# and case 1\n",
    "age_1 = 18\n",
    "age_2 = 20\n",
    "\n",
    "age_1 >= 17 and age_2 >= 20"
   ]
  },
  {
   "cell_type": "code",
   "execution_count": 30,
   "metadata": {},
   "outputs": [
    {
     "data": {
      "text/plain": [
       "False"
      ]
     },
     "execution_count": 30,
     "metadata": {},
     "output_type": "execute_result"
    }
   ],
   "source": [
    "# and case 2\n",
    "age_1 = 18\n",
    "age_2 = 20\n",
    "\n",
    "age_1 >= 17 and age_2 >= 21"
   ]
  },
  {
   "cell_type": "code",
   "execution_count": 34,
   "metadata": {},
   "outputs": [
    {
     "data": {
      "text/plain": [
       "False"
      ]
     },
     "execution_count": 34,
     "metadata": {},
     "output_type": "execute_result"
    }
   ],
   "source": [
    "# age_0 = 22\n",
    "age_1 = 18\n",
    "# age_0 >= 21 or age_1 >= 21\n",
    "\n",
    "age_0 = 18\n",
    "age_0 >= 21 or age_1 >= 21"
   ]
  },
  {
   "cell_type": "code",
   "execution_count": 46,
   "metadata": {},
   "outputs": [
    {
     "data": {
      "text/plain": [
       "True"
      ]
     },
     "execution_count": 46,
     "metadata": {},
     "output_type": "execute_result"
    }
   ],
   "source": [
    "# or case 1 2x true values\n",
    "age_1 = 18\n",
    "age_2 = 20\n",
    "\n",
    "age_1 >= 17 or age_2 >= 19"
   ]
  },
  {
   "cell_type": "code",
   "execution_count": 47,
   "metadata": {},
   "outputs": [
    {
     "data": {
      "text/plain": [
       "True"
      ]
     },
     "execution_count": 47,
     "metadata": {},
     "output_type": "execute_result"
    }
   ],
   "source": [
    "# or case 2 1x true 1x false\n",
    "age_1 = 18\n",
    "age_2 = 20\n",
    "\n",
    "age_1 >= 19 or age_2 >= 19"
   ]
  },
  {
   "cell_type": "code",
   "execution_count": 48,
   "metadata": {},
   "outputs": [
    {
     "data": {
      "text/plain": [
       "True"
      ]
     },
     "execution_count": 48,
     "metadata": {},
     "output_type": "execute_result"
    }
   ],
   "source": [
    "# or case 3\n",
    "age_1 = 18\n",
    "age_2 = 20\n",
    "\n",
    "age_1 >= 17 or age_2 >= 21"
   ]
  },
  {
   "cell_type": "code",
   "execution_count": 49,
   "metadata": {},
   "outputs": [
    {
     "data": {
      "text/plain": [
       "False"
      ]
     },
     "execution_count": 49,
     "metadata": {},
     "output_type": "execute_result"
    }
   ],
   "source": [
    "# or case 3 \n",
    "age_1 = 18\n",
    "age_2 = 20\n",
    "\n",
    "age_1 >= 19 or age_2 >= 21 # when 2x values will be false then return false "
   ]
  },
  {
   "cell_type": "code",
   "execution_count": 51,
   "metadata": {},
   "outputs": [
    {
     "data": {
      "text/plain": [
       "False"
      ]
     },
     "execution_count": 51,
     "metadata": {},
     "output_type": "execute_result"
    }
   ],
   "source": [
    "# checking value in a list\n",
    "vegitables = ['mushrooms', 'onions', 'spinach']\n",
    "'mushrooms' in vegitables # this item is availble in the current list\n",
    "# True\n",
    "'pepperoni' in vegitables # this item is not available in the current list\n",
    "# false"
   ]
  }
 ],
 "metadata": {
  "kernelspec": {
   "display_name": "python12",
   "language": "python",
   "name": "python3"
  },
  "language_info": {
   "codemirror_mode": {
    "name": "ipython",
    "version": 3
   },
   "file_extension": ".py",
   "mimetype": "text/x-python",
   "name": "python",
   "nbconvert_exporter": "python",
   "pygments_lexer": "ipython3",
   "version": "3.11.5"
  }
 },
 "nbformat": 4,
 "nbformat_minor": 2
}
