{
 "cells": [
  {
   "cell_type": "markdown",
   "metadata": {},
   "source": [
    "# Looping in list\n",
    "* for ( ) loop"
   ]
  },
  {
   "cell_type": "code",
   "execution_count": 30,
   "metadata": {},
   "outputs": [
    {
     "name": "stdout",
     "output_type": "stream",
     "text": [
      "C++\n",
      "Java\n",
      "Python\n",
      "Typescript\n",
      "Rust\n"
     ]
    }
   ],
   "source": [
    "loop: list[str] = [\"C++\",\"Java\",\"Python\",\"Typescript\",\"Rust\"]\n",
    "\n",
    "for i in loop:\n",
    "    print(i)"
   ]
  },
  {
   "cell_type": "code",
   "execution_count": 31,
   "metadata": {},
   "outputs": [
    {
     "name": "stdout",
     "output_type": "stream",
     "text": [
      "C++, is a programming language\n",
      "Java, is a programming language\n",
      "Python, is a programming language\n",
      "Typescript, is a programming language\n",
      "Rust, is a programming language\n"
     ]
    }
   ],
   "source": [
    "# print message with for loop\n",
    "loop: list[str] = [\"C++\",\"Java\",\"Python\",\"Typescript\",\"Rust\"]\n",
    "\n",
    "for i in loop:\n",
    "    print(f\"{i}, is a programming language\")"
   ]
  },
  {
   "cell_type": "code",
   "execution_count": 32,
   "metadata": {},
   "outputs": [
    {
     "name": "stdout",
     "output_type": "stream",
     "text": [
      "C++, is a programming language.\n",
      "using in different software works.\n",
      "\n",
      "Java, is a programming language.\n",
      "using in different software works.\n",
      "\n",
      "Python, is a programming language.\n",
      "using in different software works.\n",
      "\n",
      "Typescript, is a programming language.\n",
      "using in different software works.\n",
      "\n",
      "Rust, is a programming language.\n",
      "using in different software works.\n",
      "\n"
     ]
    }
   ],
   "source": [
    "# case 1\n",
    "loop: list[str] = [\"C++\",\"Java\",\"Python\",\"Typescript\",\"Rust\"]\n",
    "\n",
    "for i in loop:\n",
    "    print(f\"{i}, is a programming language.\")\n",
    "    print(\"using in different software works.\\n\")"
   ]
  },
  {
   "cell_type": "markdown",
   "metadata": {},
   "source": [
    "# difference between case 1 & case 2\n",
    "* indented area = in case 1 you print under indented area of loop\n",
    "* indented area = in case 2 you print outer side of the indented area of loop"
   ]
  },
  {
   "cell_type": "code",
   "execution_count": 33,
   "metadata": {},
   "outputs": [
    {
     "name": "stdout",
     "output_type": "stream",
     "text": [
      "C++, is a programming language.\n",
      "using in different software works.\n",
      "\n",
      "Java, is a programming language.\n",
      "using in different software works.\n",
      "\n",
      "Python, is a programming language.\n",
      "using in different software works.\n",
      "\n",
      "Typescript, is a programming language.\n",
      "using in different software works.\n",
      "\n",
      "Rust, is a programming language.\n",
      "using in different software works.\n",
      "\n",
      "like web-development, software applications etc\n"
     ]
    }
   ],
   "source": [
    "# case 2\n",
    "loop: list[str] = [\"C++\",\"Java\",\"Python\",\"Typescript\",\"Rust\"]\n",
    "\n",
    "for i in loop:\n",
    "    print(f\"{i}, is a programming language.\")\n",
    "    print(\"using in different software works.\\n\")\n",
    "\n",
    "print('like web-development, software applications etc')    "
   ]
  },
  {
   "cell_type": "markdown",
   "metadata": {},
   "source": [
    "# Indented Unecessarily after the loop"
   ]
  },
  {
   "cell_type": "code",
   "execution_count": 34,
   "metadata": {},
   "outputs": [
    {
     "name": "stdout",
     "output_type": "stream",
     "text": [
      "C++, is a programming language.\n",
      "using in different software works.\n",
      "\n",
      "like web-development, software applications etc\n",
      "Java, is a programming language.\n",
      "using in different software works.\n",
      "\n",
      "like web-development, software applications etc\n",
      "Python, is a programming language.\n",
      "using in different software works.\n",
      "\n",
      "like web-development, software applications etc\n",
      "Typescript, is a programming language.\n",
      "using in different software works.\n",
      "\n",
      "like web-development, software applications etc\n",
      "Rust, is a programming language.\n",
      "using in different software works.\n",
      "\n",
      "like web-development, software applications etc\n"
     ]
    }
   ],
   "source": [
    "loop: list[str] = [\"C++\",\"Java\",\"Python\",\"Typescript\",\"Rust\"]\n",
    "\n",
    "for i in loop:\n",
    "    print(f\"{i}, is a programming language.\")\n",
    "    print(\"using in different software works.\\n\")\n",
    "\n",
    "    print('like web-development, software applications etc') "
   ]
  },
  {
   "cell_type": "markdown",
   "metadata": {},
   "source": [
    "# Range ( ) function\n",
    "* range(start,end)"
   ]
  },
  {
   "cell_type": "code",
   "execution_count": 35,
   "metadata": {},
   "outputs": [
    {
     "name": "stdout",
     "output_type": "stream",
     "text": [
      "1\n",
      "2\n",
      "3\n",
      "4\n",
      "1\n",
      "2\n",
      "3\n",
      "4\n",
      "5\n"
     ]
    }
   ],
   "source": [
    "for value in range(1,5):\n",
    "    print(value) # print always last one value \n",
    "\n",
    "for value in range(1,6):\n",
    "    print(value) # print 1 to 5 only \n"
   ]
  },
  {
   "cell_type": "markdown",
   "metadata": {},
   "source": [
    "# list( ) using range( ) function"
   ]
  },
  {
   "cell_type": "code",
   "execution_count": 36,
   "metadata": {},
   "outputs": [
    {
     "name": "stdout",
     "output_type": "stream",
     "text": [
      "[1, 2, 3, 4]\n"
     ]
    }
   ],
   "source": [
    "values: list[str] = list(range(1,5))\n",
    "print(values)"
   ]
  },
  {
   "cell_type": "code",
   "execution_count": 37,
   "metadata": {},
   "outputs": [
    {
     "name": "stdout",
     "output_type": "stream",
     "text": [
      "[2, 4, 6, 8, 10]\n"
     ]
    }
   ],
   "source": [
    "values: list[str] = list(range(2,11,2))\n",
    "print(values)"
   ]
  },
  {
   "cell_type": "code",
   "execution_count": 38,
   "metadata": {},
   "outputs": [
    {
     "name": "stdout",
     "output_type": "stream",
     "text": [
      "[1, 4, 9, 16, 25, 36, 49, 64, 81, 100]\n"
     ]
    }
   ],
   "source": [
    "# case 1\n",
    "squares = []\n",
    "\n",
    "for value in range(1,11):\n",
    "    square = value ** 2\n",
    "    squares.append(square)\n",
    "\n",
    "print(squares)"
   ]
  },
  {
   "cell_type": "code",
   "execution_count": 39,
   "metadata": {},
   "outputs": [
    {
     "name": "stdout",
     "output_type": "stream",
     "text": [
      "[1, 4, 9, 16, 25, 36, 49, 64, 81, 100]\n"
     ]
    }
   ],
   "source": [
    "# case 2\n",
    "squares = []\n",
    "\n",
    "for value in range(1,11):\n",
    "    squares.append(value**2)\n",
    "\n",
    "print(squares)    "
   ]
  },
  {
   "cell_type": "markdown",
   "metadata": {},
   "source": [
    "# simple list statics with a list numbers\n",
    "* min( )\n",
    "* max( )\n",
    "* sum( )"
   ]
  },
  {
   "cell_type": "code",
   "execution_count": 40,
   "metadata": {},
   "outputs": [
    {
     "name": "stdout",
     "output_type": "stream",
     "text": [
      "1\n"
     ]
    }
   ],
   "source": [
    "# case 1 min( )\n",
    "nmbrs: list[int] = [1,2,3,4,5,6,7,8]\n",
    "\n",
    "print(min(nmbrs))"
   ]
  },
  {
   "cell_type": "code",
   "execution_count": 41,
   "metadata": {},
   "outputs": [
    {
     "name": "stdout",
     "output_type": "stream",
     "text": [
      "9\n"
     ]
    }
   ],
   "source": [
    "# case 2 max( )\n",
    "nmbrs: list[int] = [1,2,3,4,5,6,7,8,9]\n",
    "\n",
    "print(max(nmbrs))"
   ]
  },
  {
   "cell_type": "code",
   "execution_count": 42,
   "metadata": {},
   "outputs": [
    {
     "name": "stdout",
     "output_type": "stream",
     "text": [
      "36\n"
     ]
    }
   ],
   "source": [
    "# case 3 sum( )\n",
    "nmbrs: list[int] = [1,2,3,4,5,6,7,8]\n",
    "\n",
    "print(sum(nmbrs))"
   ]
  },
  {
   "cell_type": "markdown",
   "metadata": {},
   "source": [
    "# slicing\n",
    "* variable_name[start:end:step]"
   ]
  },
  {
   "cell_type": "code",
   "execution_count": 43,
   "metadata": {},
   "outputs": [
    {
     "name": "stdout",
     "output_type": "stream",
     "text": [
      "['Ali', 'wahab', 'Hassan']\n"
     ]
    }
   ],
   "source": [
    "names = ['Ali','wahab','Hassan','Amjad','Khizar']\n",
    "print(names[0:3]) # print 0 to 3 and last two names sliced"
   ]
  },
  {
   "cell_type": "code",
   "execution_count": 44,
   "metadata": {},
   "outputs": [
    {
     "name": "stdout",
     "output_type": "stream",
     "text": [
      "['Ali', 'Hassan']\n"
     ]
    }
   ],
   "source": [
    "names = ['Ali','wahab','Hassan','Amjad','Khizar']\n",
    "print(names[0:3:2]) # print name after 2 step "
   ]
  },
  {
   "cell_type": "code",
   "execution_count": 45,
   "metadata": {},
   "outputs": [
    {
     "name": "stdout",
     "output_type": "stream",
     "text": [
      "['wahab', 'Hassan', 'Amjad']\n"
     ]
    }
   ],
   "source": [
    "names = ['Ali','wahab','Hassan','Amjad','Khizar']\n",
    "print(names[1:4]) # print 1 to 4 element last one sliced"
   ]
  },
  {
   "cell_type": "code",
   "execution_count": 46,
   "metadata": {},
   "outputs": [
    {
     "name": "stdout",
     "output_type": "stream",
     "text": [
      "['wahab', 'Hassan', 'Amjad']\n"
     ]
    }
   ],
   "source": [
    "names = ['Ali','wahab','Hassan','Amjad','Khizar']\n",
    "print(names[-4:-1]) # you can use nagative or postive indexes for slicing"
   ]
  },
  {
   "cell_type": "markdown",
   "metadata": {},
   "source": [
    "# Looping through slicing"
   ]
  },
  {
   "cell_type": "code",
   "execution_count": 47,
   "metadata": {},
   "outputs": [
    {
     "name": "stdout",
     "output_type": "stream",
     "text": [
      "These are our star players:\n",
      "Babar\n",
      "Abdullah\n",
      "Rizwan\n"
     ]
    }
   ],
   "source": [
    "players = ['Babar','Abdullah','Rizwan','Shadab','Rauf']\n",
    "\n",
    "print('These are our star players:')\n",
    "for player in players[:3]:\n",
    "    print(player)"
   ]
  },
  {
   "cell_type": "markdown",
   "metadata": {},
   "source": [
    "# copy list"
   ]
  },
  {
   "cell_type": "code",
   "execution_count": 48,
   "metadata": {},
   "outputs": [
    {
     "name": "stdout",
     "output_type": "stream",
     "text": [
      "My favourite food's are:\n",
      "['Zinger Burger', 'Fries', 'pizza']\n",
      "\n",
      "Freind's favourite food is:\n",
      "['Zinger Burger', 'Fries', 'pizza']\n"
     ]
    }
   ],
   "source": [
    "my_food = ['Zinger Burger',\"Fries\",\"pizza\"]\n",
    "\n",
    "print(\"My favourite food's are:\")\n",
    "print(my_food)\n",
    "\n",
    "friends_food = my_food # copy list\n",
    "\n",
    "print(\"\\nFreind's favourite food is:\")\n",
    "print(friends_food)"
   ]
  },
  {
   "cell_type": "markdown",
   "metadata": {},
   "source": [
    "# update copy lists"
   ]
  },
  {
   "cell_type": "code",
   "execution_count": 49,
   "metadata": {},
   "outputs": [
    {
     "name": "stdout",
     "output_type": "stream",
     "text": [
      "My favourite food's are:\n",
      "['Zinger Burger', 'Fries', 'pizza', 'ice cream']\n",
      "\n",
      "Freind's favourite food is:\n",
      "['Zinger Burger', 'Fries', 'pizza', 'sting']\n"
     ]
    }
   ],
   "source": [
    "my_food = ['Zinger Burger',\"Fries\",\"pizza\"]\n",
    "\n",
    "friends_food = my_food[:] # copy list\n",
    "my_food.append('ice cream')\n",
    "friends_food.append('sting')\n",
    "\n",
    "print(\"My favourite food's are:\")\n",
    "print(my_food)\n",
    "\n",
    "print(\"\\nFreind's favourite food is:\")\n",
    "print(friends_food)"
   ]
  },
  {
   "cell_type": "markdown",
   "metadata": {},
   "source": [
    "# Tuples"
   ]
  },
  {
   "cell_type": "code",
   "execution_count": 50,
   "metadata": {},
   "outputs": [
    {
     "name": "stdout",
     "output_type": "stream",
     "text": [
      "('A', 'B', 'C', 'D')\n",
      "A\n"
     ]
    }
   ],
   "source": [
    "names: tuple[str] = (\"A\",\"B\",\"C\",\"D\")\n",
    "print(names)\n",
    "print(names[0])"
   ]
  },
  {
   "cell_type": "code",
   "execution_count": 51,
   "metadata": {},
   "outputs": [
    {
     "ename": "TypeError",
     "evalue": "'tuple' object does not support item assignment",
     "output_type": "error",
     "traceback": [
      "\u001b[1;31m---------------------------------------------------------------------------\u001b[0m",
      "\u001b[1;31mTypeError\u001b[0m                                 Traceback (most recent call last)",
      "\u001b[1;32me:\\Python crash course\\python programing\\chapter03.ipynb Cell 33\u001b[0m line \u001b[0;36m2\n\u001b[0;32m      <a href='vscode-notebook-cell:/e%3A/Python%20crash%20course/python%20programing/chapter03.ipynb#X44sZmlsZQ%3D%3D?line=0'>1</a>\u001b[0m names \u001b[39m=\u001b[39m (\u001b[39m\"\u001b[39m\u001b[39mA\u001b[39m\u001b[39m\"\u001b[39m,\u001b[39m\"\u001b[39m\u001b[39mB\u001b[39m\u001b[39m\"\u001b[39m,\u001b[39m\"\u001b[39m\u001b[39mC\u001b[39m\u001b[39m\"\u001b[39m,\u001b[39m\"\u001b[39m\u001b[39mD\u001b[39m\u001b[39m\"\u001b[39m)\n\u001b[1;32m----> <a href='vscode-notebook-cell:/e%3A/Python%20crash%20course/python%20programing/chapter03.ipynb#X44sZmlsZQ%3D%3D?line=1'>2</a>\u001b[0m names[\u001b[39m0\u001b[39m] \u001b[39m=\u001b[39m \u001b[39m\"\u001b[39m\u001b[39mZ\u001b[39m\u001b[39m\"\u001b[39m\n\u001b[0;32m      <a href='vscode-notebook-cell:/e%3A/Python%20crash%20course/python%20programing/chapter03.ipynb#X44sZmlsZQ%3D%3D?line=2'>3</a>\u001b[0m \u001b[39mprint\u001b[39m(names[\u001b[39m0\u001b[39m])\n",
      "\u001b[1;31mTypeError\u001b[0m: 'tuple' object does not support item assignment"
     ]
    }
   ],
   "source": [
    "names = (\"A\",\"B\",\"C\",\"D\")\n",
    "names[0] = \"Z\"\n",
    "print(names[0]) # tuple can't accept other value "
   ]
  },
  {
   "cell_type": "markdown",
   "metadata": {},
   "source": [
    "# Looping in tuple"
   ]
  },
  {
   "cell_type": "code",
   "execution_count": null,
   "metadata": {},
   "outputs": [
    {
     "name": "stdout",
     "output_type": "stream",
     "text": [
      "123\n",
      "165\n",
      "178\n",
      "2003\n"
     ]
    }
   ],
   "source": [
    "scores = (123,165,178,2003)\n",
    "\n",
    "for score in scores:\n",
    "    print(score)"
   ]
  },
  {
   "cell_type": "markdown",
   "metadata": {},
   "source": [
    "# over ride tuple"
   ]
  },
  {
   "cell_type": "code",
   "execution_count": 53,
   "metadata": {},
   "outputs": [
    {
     "name": "stdout",
     "output_type": "stream",
     "text": [
      "Original tuple:\n",
      "1\n",
      "2\n",
      "3\n",
      "4\n",
      "5\n",
      "\n",
      "Modified tuple\n",
      "5\n",
      "4\n",
      "3\n",
      "2\n",
      "1\n"
     ]
    }
   ],
   "source": [
    "nums = (1,2,3,4,5)\n",
    "print(\"Original tuple:\")\n",
    "for num in nums:\n",
    "    print(num)\n",
    "\n",
    "nums = (5,4,3,2,1)\n",
    "print(\"\\nModified tuple\")\n",
    "for num in nums:\n",
    "    print(num)    "
   ]
  }
 ],
 "metadata": {
  "kernelspec": {
   "display_name": "base",
   "language": "python",
   "name": "python3"
  },
  "language_info": {
   "codemirror_mode": {
    "name": "ipython",
    "version": 3
   },
   "file_extension": ".py",
   "mimetype": "text/x-python",
   "name": "python",
   "nbconvert_exporter": "python",
   "pygments_lexer": "ipython3",
   "version": "3.11.5"
  }
 },
 "nbformat": 4,
 "nbformat_minor": 2
}
