{
 "cells": [
  {
   "cell_type": "markdown",
   "metadata": {},
   "source": [
    "# if-else, elif\n",
    "'''\n",
    "if logic:\n",
    "     True-block\n",
    "else:\n",
    "  False-block\n",
    "  \n",
    "'''  \n",
    "# comprehensive if-else\n",
    "\n",
    "* True-block if logic else False-block\n"
   ]
  },
  {
   "cell_type": "code",
   "execution_count": 1,
   "metadata": {},
   "outputs": [
    {
     "name": "stdout",
     "output_type": "stream",
     "text": [
      "If block\n"
     ]
    }
   ],
   "source": [
    "if True:\n",
    "    print('If block')\n",
    "else:\n",
    "    print('else block')    "
   ]
  },
  {
   "cell_type": "code",
   "execution_count": 2,
   "metadata": {},
   "outputs": [
    {
     "name": "stdout",
     "output_type": "stream",
     "text": [
      "false block\n"
     ]
    }
   ],
   "source": [
    "if False:\n",
    "    print('True block')\n",
    "else:\n",
    "    print('false block')    "
   ]
  },
  {
   "cell_type": "code",
   "execution_count": 3,
   "metadata": {},
   "outputs": [
    {
     "name": "stdout",
     "output_type": "stream",
     "text": [
      "True block\n"
     ]
    }
   ],
   "source": [
    "print('True block') if True else print('False block')"
   ]
  },
  {
   "cell_type": "code",
   "execution_count": 4,
   "metadata": {},
   "outputs": [
    {
     "name": "stdout",
     "output_type": "stream",
     "text": [
      "false block\n"
     ]
    }
   ],
   "source": [
    "print('true block') if False else print('false block')"
   ]
  },
  {
   "cell_type": "code",
   "execution_count": 5,
   "metadata": {},
   "outputs": [
    {
     "name": "stdout",
     "output_type": "stream",
     "text": [
      "A\n"
     ]
    }
   ],
   "source": [
    "# case 1\n",
    "if True:\n",
    "    print('A')\n",
    "elif False:\n",
    "    print('b')\n",
    "elif False:\n",
    "    print('c') \n",
    "else:\n",
    "    print('B')           "
   ]
  },
  {
   "cell_type": "code",
   "execution_count": 6,
   "metadata": {},
   "outputs": [
    {
     "name": "stdout",
     "output_type": "stream",
     "text": [
      "B\n"
     ]
    }
   ],
   "source": [
    "# case 2 \n",
    "if False:\n",
    "    print('A')\n",
    "elif False:\n",
    "    print('b')\n",
    "elif False:\n",
    "    print('c') \n",
    "else:\n",
    "    print('B')"
   ]
  },
  {
   "cell_type": "code",
   "execution_count": 7,
   "metadata": {},
   "outputs": [
    {
     "name": "stdout",
     "output_type": "stream",
     "text": [
      "b\n"
     ]
    }
   ],
   "source": [
    "# case 3 always run only one first condition\n",
    "if False:\n",
    "    print('A')\n",
    "elif True:\n",
    "    print('b')\n",
    "elif False:\n",
    "    print('c') \n",
    "elif True:\n",
    "    print('d')    \n",
    "else:\n",
    "    print('B')"
   ]
  },
  {
   "cell_type": "markdown",
   "metadata": {},
   "source": [
    "# Grading Rule"
   ]
  },
  {
   "cell_type": "code",
   "execution_count": 10,
   "metadata": {},
   "outputs": [
    {
     "name": "stdout",
     "output_type": "stream",
     "text": [
      "Dear student your percentage is 88 and your grade is:\tA+.\n"
     ]
    }
   ],
   "source": [
    "from typing import Union\n",
    "\n",
    "per : Union[int,float] = 88\n",
    "grade: Union[str,None] = None\n",
    "\n",
    "if per >= 80:\n",
    "    grade = \"A+\"\n",
    "elif per >= 75:\n",
    "    grade = \"A\"\n",
    "elif per >= 60:\n",
    "    grade = \"B\"\n",
    "elif per >= 40:\n",
    "     grade: \"C\"\n",
    "elif per >= 33:\n",
    "    grade = \"D\"\n",
    "else:\n",
    "    grade = \"Fail\"     \n",
    "\n",
    "print(f\"\"\"Dear student your percentage is {per} and your grade is:\\t{grade}.\"\"\")\n"
   ]
  },
  {
   "cell_type": "code",
   "execution_count": 16,
   "metadata": {},
   "outputs": [
    {
     "name": "stdout",
     "output_type": "stream",
     "text": [
      "<class 'str'>\n",
      "55\n"
     ]
    }
   ],
   "source": [
    "a = input(\"Enter your percentage\\t:\")\n",
    "print(type(a))\n",
    "print(a)\n"
   ]
  },
  {
   "cell_type": "code",
   "execution_count": 18,
   "metadata": {},
   "outputs": [
    {
     "name": "stdout",
     "output_type": "stream",
     "text": [
      "<class 'int'>\n",
      "42\n"
     ]
    }
   ],
   "source": [
    "b = int(input(\"Enter your percentage\\t:\"))\n",
    "print(type(b))\n",
    "print(b)"
   ]
  },
  {
   "cell_type": "code",
   "execution_count": 35,
   "metadata": {},
   "outputs": [
    {
     "name": "stdout",
     "output_type": "stream",
     "text": [
      "Dear student your percentage is 99 now your collected grade is:\tA+.\n"
     ]
    }
   ],
   "source": [
    "# Dynamic system\n",
    "from typing import Union\n",
    "# per : Union[int,float] =    ........\n",
    "per : int | float = int(input(\"Enter your percentage\\t:\"))\n",
    "grade: Union[str,None] = None\n",
    "# optional[str] = None\n",
    "if per >= 80:\n",
    "    grade = \"A+\"\n",
    "elif per >= 70:\n",
    "    grade = \"A\"\n",
    "elif per >= 60:\n",
    "    grade = \"B\"\n",
    "elif per >= 40:\n",
    "     grade = \"C\"\n",
    "elif per >= 33:\n",
    "    grade = \"D\"\n",
    "else:\n",
    "    grade = \"Fail\"     \n",
    "\n",
    "print(f\"\"\"Dear student your percentage is {per} now your collected grade is:\\t{grade}.\"\"\")"
   ]
  },
  {
   "cell_type": "code",
   "execution_count": 59,
   "metadata": {},
   "outputs": [
    {
     "name": "stdout",
     "output_type": "stream",
     "text": [
      "Dear student your percentage is 23 now your collected grade is:\tFail.\n"
     ]
    }
   ],
   "source": [
    "# Dynamic system\n",
    "from typing import Union\n",
    "# per : Union[int,float] =    ........\n",
    "\n",
    "per : int | float = int(input(\"Enter your percentage\\t:\"))\n",
    "grade: Union[str,None] = None\n",
    "\n",
    "if (per >= 80) and (per < 100):\n",
    "    grade = \"A+\"\n",
    "elif (per >= 70) and (per < 80):\n",
    "    grade = \"A\"\n",
    "elif (per >= 60) and (per < 70):\n",
    "    grade = \"B\"\n",
    "elif (per >= 40) and (per < 60):\n",
    "     grade = \"C\"\n",
    "elif (per >= 33) and (per < 40):\n",
    "    grade = \"D\"\n",
    "else:\n",
    "    grade = \"Fail\"     \n",
    "\n",
    "print(f\"\"\"Dear student your percentage is {per} now your collected grade is:\\t{grade}.\"\"\")"
   ]
  },
  {
   "cell_type": "code",
   "execution_count": 85,
   "metadata": {},
   "outputs": [
    {
     "name": "stdout",
     "output_type": "stream",
     "text": [
      "[88, 99, 65, 70]\n",
      "['A']\n"
     ]
    }
   ],
   "source": [
    "# Dynamic system\n",
    "\n",
    "percentage: float | int = [88, 99, 65, 70]\n",
    "\n",
    "grades : list[str] = []\n",
    "\n",
    "for per in percentage:\n",
    "    grade : str = \"\"\n",
    "\n",
    "if (per >= 80) and (per < 100):\n",
    "    grade = \"A+\"\n",
    "elif (per >= 70) and (per < 80):\n",
    "    grade = \"A\"\n",
    "elif (per >= 60) and (per < 70):\n",
    "    grade = \"B\"\n",
    "elif (per >= 40) and (per < 60):\n",
    "     grade = \"C\"\n",
    "elif (per >= 33) and (per < 40):\n",
    "    grade = \"D\"\n",
    "else:\n",
    "    grade = \"Fail\"     \n",
    "    \n",
    "grades.append(grade)\n",
    "\n",
    "print(percentage)\n",
    "print(grades)    \n"
   ]
  },
  {
   "cell_type": "code",
   "execution_count": null,
   "metadata": {},
   "outputs": [],
   "source": [
    "from typing import Union\n",
    "\n",
    "perType: Union[float,int]\n",
    "\n",
    "percentages: list[pertType] = [88,99,9,50,51,65,70]\n",
    "\n",
    "grades: list[str] = []\n",
    "\n",
    "for per in percentage:\n",
    "    grade : str = \"\"\n",
    "\n",
    "    if (per >= 80) and (per < 100):\n",
    "        grade = \"A+\"\n",
    "    elif (per >= 70) and (per < 80):\n",
    "        grade = \"A\"\n",
    "    elif (per >= 60) and (per < 70):\n",
    "        grade = \"B\"\n",
    "    elif (per >= 40) and (per < 60):\n",
    "        grade = \"C\"\n",
    "    elif (per >= 33) and (per < 40):\n",
    "        grade = \"D\"\n",
    "    else:\n",
    "        grade = \"Fail\" \n",
    "\n",
    "    grades.append(grade) \n",
    "\n",
    "print(percentages) \n",
    "print(grades)      "
   ]
  },
  {
   "cell_type": "code",
   "execution_count": 86,
   "metadata": {},
   "outputs": [
    {
     "data": {
      "text/plain": [
       "<zip at 0x2280b5d07c0>"
      ]
     },
     "execution_count": 86,
     "metadata": {},
     "output_type": "execute_result"
    }
   ],
   "source": [
    "zip(percentages,grades)"
   ]
  },
  {
   "cell_type": "code",
   "execution_count": null,
   "metadata": {},
   "outputs": [],
   "source": [
    "list(zip(percentages,grades))"
   ]
  }
 ],
 "metadata": {
  "kernelspec": {
   "display_name": "Python 3",
   "language": "python",
   "name": "python3"
  },
  "language_info": {
   "codemirror_mode": {
    "name": "ipython",
    "version": 3
   },
   "file_extension": ".py",
   "mimetype": "text/x-python",
   "name": "python",
   "nbconvert_exporter": "python",
   "pygments_lexer": "ipython3",
   "version": "3.11.5"
  }
 },
 "nbformat": 4,
 "nbformat_minor": 2
}
